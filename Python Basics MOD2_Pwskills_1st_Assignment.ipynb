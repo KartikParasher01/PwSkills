{
  "nbformat": 4,
  "nbformat_minor": 0,
  "metadata": {
    "colab": {
      "provenance": []
    },
    "kernelspec": {
      "name": "python3",
      "display_name": "Python 3"
    },
    "language_info": {
      "name": "python"
    }
  },
  "cells": [
    {
      "cell_type": "code",
      "execution_count": null,
      "metadata": {
        "colab": {
          "base_uri": "https://localhost:8080/"
        },
        "id": "eCZMvh_puPpn",
        "outputId": "06d462a0-83ba-4eda-d10e-acf7680021de"
      },
      "outputs": [
        {
          "output_type": "stream",
          "name": "stdout",
          "text": [
            "Hello, Wold!\n"
          ]
        }
      ],
      "source": [
        "#Q1. Write a Python program to print \"Hello, World!\n",
        "print(\"Hello, Wold!\")"
      ]
    },
    {
      "cell_type": "code",
      "source": [
        "#Q2. Write a Python program that displays your name and age0\n",
        "name = \"Kartik\"\n",
        "age = 23\n",
        "print(\"Hey , my name is \",name, \"and my age is \", age)"
      ],
      "metadata": {
        "colab": {
          "base_uri": "https://localhost:8080/"
        },
        "id": "jLqLUqt2uqzH",
        "outputId": "031ab871-76a7-4538-eb31-122a80f0380d"
      },
      "execution_count": null,
      "outputs": [
        {
          "output_type": "stream",
          "name": "stdout",
          "text": [
            "Hey , my name is  Kartik and my age is  23\n"
          ]
        }
      ]
    },
    {
      "cell_type": "code",
      "source": [
        "\"\"\" Q3. Write code to print all the pre-defined keywords in Python using the\n",
        "keyword library\"\"\"\n",
        "import keyword\n",
        "print(keyword.kwlist)"
      ],
      "metadata": {
        "colab": {
          "base_uri": "https://localhost:8080/"
        },
        "id": "VAsA2OXkvCul",
        "outputId": "bdcba775-1f3e-491e-b483-0198db8c3321"
      },
      "execution_count": null,
      "outputs": [
        {
          "output_type": "stream",
          "name": "stdout",
          "text": [
            "['False', 'None', 'True', 'and', 'as', 'assert', 'async', 'await', 'break', 'class', 'continue', 'def', 'del', 'elif', 'else', 'except', 'finally', 'for', 'from', 'global', 'if', 'import', 'in', 'is', 'lambda', 'nonlocal', 'not', 'or', 'pass', 'raise', 'return', 'try', 'while', 'with', 'yield']\n"
          ]
        }
      ]
    },
    {
      "cell_type": "code",
      "source": [
        "#Q4. Write a program that checks if a given word is a Python keyword\n",
        "word = input(\"Enter a word: \")\n",
        "if keyword.iskeyword(word):\n",
        "    print(word, \"is a Python keyword.\")"
      ],
      "metadata": {
        "colab": {
          "base_uri": "https://localhost:8080/"
        },
        "id": "Qdp8dXwkv0Uk",
        "outputId": "c8d1bd9f-6f19-4ac2-a5c3-6a8266500ab8"
      },
      "execution_count": null,
      "outputs": [
        {
          "output_type": "stream",
          "name": "stdout",
          "text": [
            "Enter a word: and\n",
            "and is a Python keyword.\n"
          ]
        }
      ]
    },
    {
      "cell_type": "code",
      "source": [
        "#Q5. Create a list and tuple in Python, and demonstrate how attempting to change an element works differently for each?\n",
        "\n",
        "# Creating a list\n",
        "my_list = [1, 2, 3, 4, 5]\n",
        "print(\"Original list:\", my_list)\n",
        "\n",
        "# Changing an element in the list\n",
        "my_list[2] = 10  # We are changing the third element (index 2) to 10\n",
        "print(\"Updated list:\", my_list)\n",
        "\n",
        "\n",
        "#Creating a tuple\n",
        "my_tuple = (1, 2, 3, 4, 5)\n",
        "print(\"Original tuple:\", my_tuple)\n",
        "\n",
        "# Attempting to change an element in the tuple (this will cause an error)\n",
        "try:\n",
        "    my_tuple[2] = 10  # We are trying to change the third element (index 2)\n",
        "except TypeError as e:\n",
        "    print(\"Error:\", e)\n",
        "\n",
        "\n",
        "\n",
        "\n",
        "\n",
        "\n",
        "\n"
      ],
      "metadata": {
        "colab": {
          "base_uri": "https://localhost:8080/"
        },
        "id": "Kb1WC_cI61Bc",
        "outputId": "7b03c2c6-d8dc-4bcd-ed90-e3174c11b5e4"
      },
      "execution_count": null,
      "outputs": [
        {
          "output_type": "stream",
          "name": "stdout",
          "text": [
            "Original list: [1, 2, 3, 4, 5]\n",
            "Updated list: [1, 2, 10, 4, 5]\n",
            "Original tuple: (1, 2, 3, 4, 5)\n",
            "Error: 'tuple' object does not support item assignment\n"
          ]
        }
      ]
    },
    {
      "cell_type": "code",
      "source": [
        "# Q6 Write a function to demonstrate the behavior of mutable and immutable arguments?\n",
        "\n",
        "# Create a list (mutable) and a string (immutable)\n",
        "my_list = [1, 2, 3]  # Mutable\n",
        "my_string = \"original\"  # Immutable\n",
        "\n",
        "print(\"Before changes, mutable list:\", my_list)\n",
        "print(\"Before changes, immutable string:\", my_string)\n",
        "\n",
        "# Modify the mutable list (list can change)\n",
        "my_list.append(\"new item\")\n",
        "print(\"After modification, mutable list:\", my_list)\n",
        "\n",
        "# Modify the immutable string (creates a new string)\n",
        "new_string = my_string + \" added text\"\n",
        "print(\"After modification, immutable string:\", new_string)\n",
        "\n",
        "# Original values after changes\n",
        "print(\"Final mutable list:\", my_list)\n",
        "print(\"Final immutable string:\", my_string)\n",
        "\n"
      ],
      "metadata": {
        "id": "34sdK2xM7odu",
        "outputId": "4f5a0bbb-82f8-4554-a65b-1a203ce1a58b",
        "colab": {
          "base_uri": "https://localhost:8080/"
        }
      },
      "execution_count": null,
      "outputs": [
        {
          "output_type": "stream",
          "name": "stdout",
          "text": [
            "Before changes, mutable list: [1, 2, 3]\n",
            "Before changes, immutable string: original\n",
            "After modification, mutable list: [1, 2, 3, 'new item']\n",
            "After modification, immutable string: original added text\n",
            "Final mutable list: [1, 2, 3, 'new item']\n",
            "Final immutable string: original\n"
          ]
        }
      ]
    },
    {
      "cell_type": "code",
      "source": [
        "#Q7 Write a function to demonstrate the behavior of mutable and immutable arguments?\n",
        "\n",
        "# Create a list (mutable) and a string (immutable)\n",
        "my_list = [1, 2, 3]  # Mutable\n",
        "my_string = \"original\"  # Immutable\n",
        "\n",
        "print(\"Before changes, mutable list:\", my_list)\n",
        "print(\"Before changes, immutable string:\", my_string)\n",
        "\n",
        "# Modify the mutable list (list can change)\n",
        "my_list.append(\"new item\")\n",
        "print(\"After modification, mutable list:\", my_list)\n",
        "\n",
        "# Modify the immutable string (creates a new string)\n",
        "new_string = my_string + \" added text\"\n",
        "print(\"After modification, immutable string:\", new_string)\n",
        "\n",
        "# Original values after changes\n",
        "print(\"Final mutable list:\", my_list)\n",
        "print(\"Final immutable string:\", my_string)\n",
        "\n"
      ],
      "metadata": {
        "colab": {
          "base_uri": "https://localhost:8080/"
        },
        "id": "sBxudJ6zEFzI",
        "outputId": "e284ce4c-26fd-4f9d-85a4-6d9c3b774a36"
      },
      "execution_count": null,
      "outputs": [
        {
          "output_type": "stream",
          "name": "stdout",
          "text": [
            "Before changes, mutable list: [1, 2, 3]\n",
            "Before changes, immutable string: original\n",
            "After modification, mutable list: [1, 2, 3, 'new item']\n",
            "After modification, immutable string: original added text\n",
            "Final mutable list: [1, 2, 3, 'new item']\n",
            "Final immutable string: original\n"
          ]
        }
      ]
    },
    {
      "cell_type": "code",
      "source": [
        "#Q8 Write a program to demonstrate the use of logical operators?\n",
        "\n",
        "# Example: Logical Operators (AND, OR, NOT) with generic variables\n",
        "a, b, c = True, False, True\n",
        "\n",
        "# AND: Both conditions must be True\n",
        "if a and c:\n",
        "    print(\"Both a and c are True (AND condition).\")\n",
        "\n",
        "# OR: At least one condition must be True\n",
        "if b or c:\n",
        "    print(\"Either b or c is True (OR condition).\")\n",
        "\n",
        "# NOT: Reverses the condition\n",
        "if not b:\n",
        "    print(\"b is False (NOT condition).\")\n"
      ],
      "metadata": {
        "colab": {
          "base_uri": "https://localhost:8080/"
        },
        "id": "JcdJQv72MKmJ",
        "outputId": "89b03149-8d2a-4ac1-9746-3ad65597c9ee"
      },
      "execution_count": null,
      "outputs": [
        {
          "output_type": "stream",
          "name": "stdout",
          "text": [
            "Both a and c are True (AND condition).\n",
            "Either b or c is True (OR condition).\n",
            "b is False (NOT condition).\n"
          ]
        }
      ]
    },
    {
      "cell_type": "code",
      "source": [
        "#Q9 Write a Python program to convert user input from string to integer, float, and boolean types?\n",
        "user = input(\"Enter a value: \")\n",
        "integer_value = int(user)\n",
        "float_value = float(user)\n",
        "boolean_value = bool(user)\n",
        "print(\"Integer value:\", integer_value)\n",
        "print(\"Float value:\", float_value)\n",
        "print(\"Boolean value:\", boolean_value)\n"
      ],
      "metadata": {
        "colab": {
          "base_uri": "https://localhost:8080/"
        },
        "id": "amcpV7ZyMa1C",
        "outputId": "b81833d2-4536-4879-f3ce-625f64869420"
      },
      "execution_count": null,
      "outputs": [
        {
          "output_type": "stream",
          "name": "stdout",
          "text": [
            "Enter a value: 33\n",
            "Integer value: 33\n",
            "Float value: 33.0\n",
            "Boolean value: True\n"
          ]
        }
      ]
    },
    {
      "cell_type": "code",
      "source": [
        "#Q10. Write code to demonstrate type casting with list elements?\n",
        "a = [1, 2, 3, 3,4]\n",
        "a = str(a)\n",
        "print(a)\n",
        "print(type(a))\n",
        "a = tuple(a)\n",
        "print(a)\n",
        "print(type(a))\n",
        "a = set(a)\n",
        "print(a)\n",
        "print(type(a))"
      ],
      "metadata": {
        "colab": {
          "base_uri": "https://localhost:8080/"
        },
        "id": "OY9yBSaCNF5W",
        "outputId": "5f690790-da6b-4bff-cbb5-2dd84715cc29"
      },
      "execution_count": null,
      "outputs": [
        {
          "output_type": "stream",
          "name": "stdout",
          "text": [
            "[1, 2, 3, 3, 4]\n",
            "<class 'str'>\n",
            "('[', '1', ',', ' ', '2', ',', ' ', '3', ',', ' ', '3', ',', ' ', '4', ']')\n",
            "<class 'tuple'>\n",
            "{',', '3', ' ', ']', '1', '2', '[', '4'}\n",
            "<class 'set'>\n"
          ]
        }
      ]
    },
    {
      "cell_type": "code",
      "source": [
        "#Q11. Write a program that checks if a number is positive, negative, or zero?\n",
        "a = input(\"Enter a number: \")\n",
        "if int(a) > 0:\n",
        "      print (\"Number is positive\")\n",
        "\n",
        "elif int(a) < 0:\n",
        "      print (\"Number is negative\")\n",
        "\n",
        "else:\n",
        "      print (\"Number is zero\")"
      ],
      "metadata": {
        "colab": {
          "base_uri": "https://localhost:8080/"
        },
        "id": "VAAFfbIuNl3U",
        "outputId": "06ed01af-808f-4192-bef1-3307524e49ee"
      },
      "execution_count": null,
      "outputs": [
        {
          "output_type": "stream",
          "name": "stdout",
          "text": [
            "Enter a number: 22\n",
            "Number is positive\n"
          ]
        }
      ]
    },
    {
      "cell_type": "code",
      "source": [
        "#Q12. Write a for loop to print numbers from 1 to 100?\n",
        "for i in range(1,101):\n",
        "\n",
        "  print (i)"
      ],
      "metadata": {
        "colab": {
          "base_uri": "https://localhost:8080/"
        },
        "id": "8J1RbzNxOXE0",
        "outputId": "e7505596-b38d-4bb9-eb80-b2e74fa6b9ab"
      },
      "execution_count": null,
      "outputs": [
        {
          "output_type": "stream",
          "name": "stdout",
          "text": [
            "1\n",
            "2\n",
            "3\n",
            "4\n",
            "5\n",
            "6\n",
            "7\n",
            "8\n",
            "9\n",
            "10\n",
            "11\n",
            "12\n",
            "13\n",
            "14\n",
            "15\n",
            "16\n",
            "17\n",
            "18\n",
            "19\n",
            "20\n",
            "21\n",
            "22\n",
            "23\n",
            "24\n",
            "25\n",
            "26\n",
            "27\n",
            "28\n",
            "29\n",
            "30\n",
            "31\n",
            "32\n",
            "33\n",
            "34\n",
            "35\n",
            "36\n",
            "37\n",
            "38\n",
            "39\n",
            "40\n",
            "41\n",
            "42\n",
            "43\n",
            "44\n",
            "45\n",
            "46\n",
            "47\n",
            "48\n",
            "49\n",
            "50\n",
            "51\n",
            "52\n",
            "53\n",
            "54\n",
            "55\n",
            "56\n",
            "57\n",
            "58\n",
            "59\n",
            "60\n",
            "61\n",
            "62\n",
            "63\n",
            "64\n",
            "65\n",
            "66\n",
            "67\n",
            "68\n",
            "69\n",
            "70\n",
            "71\n",
            "72\n",
            "73\n",
            "74\n",
            "75\n",
            "76\n",
            "77\n",
            "78\n",
            "79\n",
            "80\n",
            "81\n",
            "82\n",
            "83\n",
            "84\n",
            "85\n",
            "86\n",
            "87\n",
            "88\n",
            "89\n",
            "90\n",
            "91\n",
            "92\n",
            "93\n",
            "94\n",
            "95\n",
            "96\n",
            "97\n",
            "98\n",
            "99\n",
            "100\n"
          ]
        }
      ]
    },
    {
      "cell_type": "code",
      "source": [
        "#Q 13.  Write a Python program to find the sum of all even numbers between 1 and 500?\n",
        "\n",
        "total = 0\n",
        "for i in range( 1,501):\n",
        "  if i % 2 == 0:\n",
        "    total = total + i\n",
        "\n",
        "print(\"The sum of all even number form 1 - 500 is: \",total )\n",
        "\n",
        "\n",
        "\n"
      ],
      "metadata": {
        "colab": {
          "base_uri": "https://localhost:8080/"
        },
        "id": "TncHbZCZOxbV",
        "outputId": "8b3c8bd6-35b2-4850-83e5-432860267a4d"
      },
      "execution_count": null,
      "outputs": [
        {
          "output_type": "stream",
          "name": "stdout",
          "text": [
            "The sum of all even number form 1 - 500 is:  62750\n"
          ]
        }
      ]
    },
    {
      "cell_type": "code",
      "source": [
        "#Q 14. Write a program to reverse a string using a while loop?\n",
        "a = \"hello wold\"\n",
        "reversed_string = \"\"\n",
        "index = len(a) - 1\n",
        "\n",
        "while index >= 0:\n",
        "    reversed_string += a[index]\n",
        "    index -= 1\n",
        "\n",
        "print(\"Reversed string:\", reversed_string)"
      ],
      "metadata": {
        "colab": {
          "base_uri": "https://localhost:8080/"
        },
        "id": "sWs5SDZhPo5i",
        "outputId": "183c1056-96e1-48d4-86c4-a3262a037739"
      },
      "execution_count": null,
      "outputs": [
        {
          "output_type": "stream",
          "name": "stdout",
          "text": [
            "Reversed string: dlow olleh\n"
          ]
        }
      ]
    },
    {
      "cell_type": "code",
      "source": [
        "#Q15. Write a Python program to calculate the factorial of a number provided by the user using a while loop.\n",
        "\n",
        "a = int(input(\"Enter a number: \"))\n",
        "factorial = 1\n",
        "while a > 0:\n",
        "    factorial *= a\n",
        "    a -= 1\n",
        "\n",
        "print(\"The factorial of the number is:\", factorial)"
      ],
      "metadata": {
        "colab": {
          "base_uri": "https://localhost:8080/"
        },
        "id": "o_t1rYUoWEqI",
        "outputId": "ccfcd7c2-c53f-4f1a-fd01-baf975822572"
      },
      "execution_count": null,
      "outputs": [
        {
          "output_type": "stream",
          "name": "stdout",
          "text": [
            "Enter a number: 5\n",
            "The factorial of the number is: 120\n"
          ]
        }
      ]
    }
  ]
}